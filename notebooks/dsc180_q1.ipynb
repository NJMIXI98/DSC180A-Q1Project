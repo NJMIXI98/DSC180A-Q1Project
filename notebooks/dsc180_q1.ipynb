{
 "cells": [
  {
   "cell_type": "code",
   "execution_count": 3,
   "id": "speaking-content",
   "metadata": {},
   "outputs": [],
   "source": [
    "import numpy as np\n",
    "import pandas as pd\n",
    "from statistics import mean\n",
    "import statsmodels.api as sm\n",
    "from statsmodels.formula.api import ols\n",
    "from statsmodels.graphics.factorplots import interaction_plot\n",
    "import matplotlib.pyplot as plt"
   ]
  },
  {
   "cell_type": "code",
   "execution_count": 137,
   "id": "scheduled-impossible",
   "metadata": {},
   "outputs": [],
   "source": [
    "df = pd.read_json('Q1_rankings.json', lines=True)"
   ]
  },
  {
   "cell_type": "code",
   "execution_count": 139,
   "id": "dental-adjustment",
   "metadata": {},
   "outputs": [],
   "source": [
    "df['gender'] = df.apply(lambda row: row.treatment.get('gender'), axis=1)\n",
    "df['ethnicity'] = df.apply(lambda row: row.treatment.get('ethnicity'), axis=1)"
   ]
  },
  {
   "cell_type": "code",
   "execution_count": 140,
   "id": "distinct-budapest",
   "metadata": {},
   "outputs": [],
   "source": [
    "def price_row(row):\n",
    "    if len(row['ranking'])>0:\n",
    "        if 'price' in row['ranking'][0]:\n",
    "            return row['ranking']\n",
    "    else:\n",
    "        return '0'"
   ]
  },
  {
   "cell_type": "code",
   "execution_count": 141,
   "id": "unlikely-above",
   "metadata": {},
   "outputs": [],
   "source": [
    "df['position'] = df.apply(lambda row: price_row(row), axis=1)"
   ]
  },
  {
   "cell_type": "code",
   "execution_count": 142,
   "id": "proof-republican",
   "metadata": {},
   "outputs": [],
   "source": [
    "df = df[['scraper','gender','ethnicity','position']]\n",
    "df = df.dropna()"
   ]
  },
  {
   "cell_type": "code",
   "execution_count": 143,
   "id": "expired-machine",
   "metadata": {},
   "outputs": [],
   "source": [
    "def price(row):\n",
    "    ls = []\n",
    "    for i in row['position']:\n",
    "        if i is not None and type(i) is dict:\n",
    "            pc = i.get('price')\n",
    "            if 'K' in pc:\n",
    "                pc = pc.replace('K','000')\n",
    "            if '+' in pc:\n",
    "                pc = pc.replace('+','')   \n",
    "            iprice = int(pc.replace(',', '')[1:])\n",
    "            ls.append(iprice)\n",
    "    return ls\n"
   ]
  },
  {
   "cell_type": "code",
   "execution_count": 144,
   "id": "talented-minutes",
   "metadata": {},
   "outputs": [],
   "source": [
    "df['price'] = df.apply(lambda row: price(row) , axis=1)"
   ]
  },
  {
   "cell_type": "code",
   "execution_count": 145,
   "id": "gentle-listing",
   "metadata": {},
   "outputs": [],
   "source": [
    "def locate(row):\n",
    "    for i in row['position']:\n",
    "        if i is not None and type(i) is dict:\n",
    "            lo = i.get('locality')\n",
    "            if lo is not None:\n",
    "                if 'Champaign' in lo or 'CHAMPAIGN' in lo:\n",
    "                    return 'Champaign'\n",
    "                elif 'Chicago' in lo or 'CHICAGO' in lo:\n",
    "                    return 'Chicago'\n",
    "                else:\n",
    "                    return None"
   ]
  },
  {
   "cell_type": "code",
   "execution_count": 146,
   "id": "posted-crime",
   "metadata": {},
   "outputs": [],
   "source": [
    "df['locality'] = df.apply(lambda row:locate(row),axis=1)"
   ]
  },
  {
   "cell_type": "code",
   "execution_count": 147,
   "id": "brave-aquarium",
   "metadata": {},
   "outputs": [],
   "source": [
    "df = df.dropna()\n",
    "df = df.reset_index(drop=True)"
   ]
  },
  {
   "cell_type": "code",
   "execution_count": 148,
   "id": "veterinary-greeting",
   "metadata": {},
   "outputs": [],
   "source": [
    "df['price_mean'] = df.apply(lambda row: round(mean(row['price'])) , axis=1)"
   ]
  },
  {
   "cell_type": "code",
   "execution_count": null,
   "id": "renewable-miracle",
   "metadata": {},
   "outputs": [],
   "source": []
  },
  {
   "cell_type": "code",
   "execution_count": 149,
   "id": "vocational-steal",
   "metadata": {},
   "outputs": [],
   "source": [
    "average_price_groups = df.groupby(['scraper','locality','gender', 'ethnicity']).agg({'price_mean': ['mean']}).astype(int)"
   ]
  },
  {
   "cell_type": "code",
   "execution_count": 150,
   "id": "wanted-manner",
   "metadata": {},
   "outputs": [
    {
     "data": {
      "text/html": [
       "<div>\n",
       "<style scoped>\n",
       "    .dataframe tbody tr th:only-of-type {\n",
       "        vertical-align: middle;\n",
       "    }\n",
       "\n",
       "    .dataframe tbody tr th {\n",
       "        vertical-align: top;\n",
       "    }\n",
       "\n",
       "    .dataframe thead tr th {\n",
       "        text-align: left;\n",
       "    }\n",
       "\n",
       "    .dataframe thead tr:last-of-type th {\n",
       "        text-align: right;\n",
       "    }\n",
       "</style>\n",
       "<table border=\"1\" class=\"dataframe\">\n",
       "  <thead>\n",
       "    <tr>\n",
       "      <th></th>\n",
       "      <th></th>\n",
       "      <th></th>\n",
       "      <th></th>\n",
       "      <th>price_mean</th>\n",
       "    </tr>\n",
       "    <tr>\n",
       "      <th></th>\n",
       "      <th></th>\n",
       "      <th></th>\n",
       "      <th></th>\n",
       "      <th>mean</th>\n",
       "    </tr>\n",
       "    <tr>\n",
       "      <th>scraper</th>\n",
       "      <th>locality</th>\n",
       "      <th>gender</th>\n",
       "      <th>ethnicity</th>\n",
       "      <th></th>\n",
       "    </tr>\n",
       "  </thead>\n",
       "  <tbody>\n",
       "    <tr>\n",
       "      <th rowspan=\"16\" valign=\"top\">Realtor</th>\n",
       "      <th rowspan=\"8\" valign=\"top\">Champaign</th>\n",
       "      <th rowspan=\"4\" valign=\"top\">female</th>\n",
       "      <th>african american</th>\n",
       "      <td>186316</td>\n",
       "    </tr>\n",
       "    <tr>\n",
       "      <th>asian</th>\n",
       "      <td>252004</td>\n",
       "    </tr>\n",
       "    <tr>\n",
       "      <th>caucasian</th>\n",
       "      <td>231455</td>\n",
       "    </tr>\n",
       "    <tr>\n",
       "      <th>hispanic</th>\n",
       "      <td>184872</td>\n",
       "    </tr>\n",
       "    <tr>\n",
       "      <th rowspan=\"4\" valign=\"top\">male</th>\n",
       "      <th>african american</th>\n",
       "      <td>216065</td>\n",
       "    </tr>\n",
       "    <tr>\n",
       "      <th>asian</th>\n",
       "      <td>219872</td>\n",
       "    </tr>\n",
       "    <tr>\n",
       "      <th>caucasian</th>\n",
       "      <td>406047</td>\n",
       "    </tr>\n",
       "    <tr>\n",
       "      <th>hispanic</th>\n",
       "      <td>337737</td>\n",
       "    </tr>\n",
       "    <tr>\n",
       "      <th rowspan=\"8\" valign=\"top\">Chicago</th>\n",
       "      <th rowspan=\"4\" valign=\"top\">female</th>\n",
       "      <th>african american</th>\n",
       "      <td>298285</td>\n",
       "    </tr>\n",
       "    <tr>\n",
       "      <th>asian</th>\n",
       "      <td>415222</td>\n",
       "    </tr>\n",
       "    <tr>\n",
       "      <th>caucasian</th>\n",
       "      <td>316717</td>\n",
       "    </tr>\n",
       "    <tr>\n",
       "      <th>hispanic</th>\n",
       "      <td>442223</td>\n",
       "    </tr>\n",
       "    <tr>\n",
       "      <th rowspan=\"4\" valign=\"top\">male</th>\n",
       "      <th>african american</th>\n",
       "      <td>385510</td>\n",
       "    </tr>\n",
       "    <tr>\n",
       "      <th>asian</th>\n",
       "      <td>220265</td>\n",
       "    </tr>\n",
       "    <tr>\n",
       "      <th>caucasian</th>\n",
       "      <td>453362</td>\n",
       "    </tr>\n",
       "    <tr>\n",
       "      <th>hispanic</th>\n",
       "      <td>226040</td>\n",
       "    </tr>\n",
       "    <tr>\n",
       "      <th rowspan=\"16\" valign=\"top\">Trulia</th>\n",
       "      <th rowspan=\"8\" valign=\"top\">Champaign</th>\n",
       "      <th rowspan=\"4\" valign=\"top\">female</th>\n",
       "      <th>african american</th>\n",
       "      <td>227334</td>\n",
       "    </tr>\n",
       "    <tr>\n",
       "      <th>asian</th>\n",
       "      <td>154322</td>\n",
       "    </tr>\n",
       "    <tr>\n",
       "      <th>caucasian</th>\n",
       "      <td>189099</td>\n",
       "    </tr>\n",
       "    <tr>\n",
       "      <th>hispanic</th>\n",
       "      <td>202994</td>\n",
       "    </tr>\n",
       "    <tr>\n",
       "      <th rowspan=\"4\" valign=\"top\">male</th>\n",
       "      <th>african american</th>\n",
       "      <td>241794</td>\n",
       "    </tr>\n",
       "    <tr>\n",
       "      <th>asian</th>\n",
       "      <td>206394</td>\n",
       "    </tr>\n",
       "    <tr>\n",
       "      <th>caucasian</th>\n",
       "      <td>212565</td>\n",
       "    </tr>\n",
       "    <tr>\n",
       "      <th>hispanic</th>\n",
       "      <td>209941</td>\n",
       "    </tr>\n",
       "    <tr>\n",
       "      <th rowspan=\"8\" valign=\"top\">Chicago</th>\n",
       "      <th rowspan=\"4\" valign=\"top\">female</th>\n",
       "      <th>african american</th>\n",
       "      <td>278855</td>\n",
       "    </tr>\n",
       "    <tr>\n",
       "      <th>asian</th>\n",
       "      <td>167330</td>\n",
       "    </tr>\n",
       "    <tr>\n",
       "      <th>caucasian</th>\n",
       "      <td>207702</td>\n",
       "    </tr>\n",
       "    <tr>\n",
       "      <th>hispanic</th>\n",
       "      <td>270710</td>\n",
       "    </tr>\n",
       "    <tr>\n",
       "      <th rowspan=\"4\" valign=\"top\">male</th>\n",
       "      <th>african american</th>\n",
       "      <td>220710</td>\n",
       "    </tr>\n",
       "    <tr>\n",
       "      <th>asian</th>\n",
       "      <td>270710</td>\n",
       "    </tr>\n",
       "    <tr>\n",
       "      <th>caucasian</th>\n",
       "      <td>219837</td>\n",
       "    </tr>\n",
       "    <tr>\n",
       "      <th>hispanic</th>\n",
       "      <td>270710</td>\n",
       "    </tr>\n",
       "  </tbody>\n",
       "</table>\n",
       "</div>"
      ],
      "text/plain": [
       "                                          price_mean\n",
       "                                                mean\n",
       "scraper locality  gender ethnicity                  \n",
       "Realtor Champaign female african american     186316\n",
       "                         asian                252004\n",
       "                         caucasian            231455\n",
       "                         hispanic             184872\n",
       "                  male   african american     216065\n",
       "                         asian                219872\n",
       "                         caucasian            406047\n",
       "                         hispanic             337737\n",
       "        Chicago   female african american     298285\n",
       "                         asian                415222\n",
       "                         caucasian            316717\n",
       "                         hispanic             442223\n",
       "                  male   african american     385510\n",
       "                         asian                220265\n",
       "                         caucasian            453362\n",
       "                         hispanic             226040\n",
       "Trulia  Champaign female african american     227334\n",
       "                         asian                154322\n",
       "                         caucasian            189099\n",
       "                         hispanic             202994\n",
       "                  male   african american     241794\n",
       "                         asian                206394\n",
       "                         caucasian            212565\n",
       "                         hispanic             209941\n",
       "        Chicago   female african american     278855\n",
       "                         asian                167330\n",
       "                         caucasian            207702\n",
       "                         hispanic             270710\n",
       "                  male   african american     220710\n",
       "                         asian                270710\n",
       "                         caucasian            219837\n",
       "                         hispanic             270710"
      ]
     },
     "execution_count": 150,
     "metadata": {},
     "output_type": "execute_result"
    }
   ],
   "source": [
    "average_price_groups"
   ]
  },
  {
   "cell_type": "code",
   "execution_count": 158,
   "id": "beneficial-prince",
   "metadata": {},
   "outputs": [],
   "source": [
    "model_R = ols('price_mean ~ C(gender) + C(ethnicity) + C(gender):C(ethnicity)', data=df).fit()"
   ]
  },
  {
   "cell_type": "code",
   "execution_count": 159,
   "id": "living-relative",
   "metadata": {},
   "outputs": [
    {
     "data": {
      "text/html": [
       "<div>\n",
       "<style scoped>\n",
       "    .dataframe tbody tr th:only-of-type {\n",
       "        vertical-align: middle;\n",
       "    }\n",
       "\n",
       "    .dataframe tbody tr th {\n",
       "        vertical-align: top;\n",
       "    }\n",
       "\n",
       "    .dataframe thead th {\n",
       "        text-align: right;\n",
       "    }\n",
       "</style>\n",
       "<table border=\"1\" class=\"dataframe\">\n",
       "  <thead>\n",
       "    <tr style=\"text-align: right;\">\n",
       "      <th></th>\n",
       "      <th>sum_sq</th>\n",
       "      <th>df</th>\n",
       "      <th>F</th>\n",
       "      <th>PR(&gt;F)</th>\n",
       "    </tr>\n",
       "  </thead>\n",
       "  <tbody>\n",
       "    <tr>\n",
       "      <th>C(gender)</th>\n",
       "      <td>4.963485e+11</td>\n",
       "      <td>1.0</td>\n",
       "      <td>2.653768</td>\n",
       "      <td>0.105927</td>\n",
       "    </tr>\n",
       "    <tr>\n",
       "      <th>C(ethnicity)</th>\n",
       "      <td>5.881739e+11</td>\n",
       "      <td>3.0</td>\n",
       "      <td>1.048240</td>\n",
       "      <td>0.373923</td>\n",
       "    </tr>\n",
       "    <tr>\n",
       "      <th>C(gender):C(ethnicity)</th>\n",
       "      <td>7.953801e+11</td>\n",
       "      <td>3.0</td>\n",
       "      <td>1.417522</td>\n",
       "      <td>0.241038</td>\n",
       "    </tr>\n",
       "    <tr>\n",
       "      <th>Residual</th>\n",
       "      <td>2.244425e+13</td>\n",
       "      <td>120.0</td>\n",
       "      <td>NaN</td>\n",
       "      <td>NaN</td>\n",
       "    </tr>\n",
       "  </tbody>\n",
       "</table>\n",
       "</div>"
      ],
      "text/plain": [
       "                              sum_sq     df         F    PR(>F)\n",
       "C(gender)               4.963485e+11    1.0  2.653768  0.105927\n",
       "C(ethnicity)            5.881739e+11    3.0  1.048240  0.373923\n",
       "C(gender):C(ethnicity)  7.953801e+11    3.0  1.417522  0.241038\n",
       "Residual                2.244425e+13  120.0       NaN       NaN"
      ]
     },
     "execution_count": 159,
     "metadata": {},
     "output_type": "execute_result"
    }
   ],
   "source": [
    "sm.stats.anova_lm(model, typ=2)"
   ]
  },
  {
   "cell_type": "code",
   "execution_count": 151,
   "id": "alternative-wireless",
   "metadata": {},
   "outputs": [],
   "source": [
    "Realtor = df[df.scraper == 'Realtor']"
   ]
  },
  {
   "cell_type": "code",
   "execution_count": 152,
   "id": "found-temperature",
   "metadata": {},
   "outputs": [],
   "source": [
    "model_R = ols('price_mean ~ C(gender) + C(ethnicity) + C(gender):C(ethnicity)', data=Realtor).fit()"
   ]
  },
  {
   "cell_type": "code",
   "execution_count": 153,
   "id": "emotional-olympus",
   "metadata": {},
   "outputs": [
    {
     "data": {
      "text/html": [
       "<div>\n",
       "<style scoped>\n",
       "    .dataframe tbody tr th:only-of-type {\n",
       "        vertical-align: middle;\n",
       "    }\n",
       "\n",
       "    .dataframe tbody tr th {\n",
       "        vertical-align: top;\n",
       "    }\n",
       "\n",
       "    .dataframe thead th {\n",
       "        text-align: right;\n",
       "    }\n",
       "</style>\n",
       "<table border=\"1\" class=\"dataframe\">\n",
       "  <thead>\n",
       "    <tr style=\"text-align: right;\">\n",
       "      <th></th>\n",
       "      <th>sum_sq</th>\n",
       "      <th>df</th>\n",
       "      <th>F</th>\n",
       "      <th>PR(&gt;F)</th>\n",
       "    </tr>\n",
       "  </thead>\n",
       "  <tbody>\n",
       "    <tr>\n",
       "      <th>C(gender)</th>\n",
       "      <td>8.479322e+09</td>\n",
       "      <td>1.0</td>\n",
       "      <td>0.296231</td>\n",
       "      <td>0.588416</td>\n",
       "    </tr>\n",
       "    <tr>\n",
       "      <th>C(ethnicity)</th>\n",
       "      <td>6.017691e+10</td>\n",
       "      <td>3.0</td>\n",
       "      <td>0.700773</td>\n",
       "      <td>0.555552</td>\n",
       "    </tr>\n",
       "    <tr>\n",
       "      <th>C(gender):C(ethnicity)</th>\n",
       "      <td>1.414801e+11</td>\n",
       "      <td>3.0</td>\n",
       "      <td>1.647567</td>\n",
       "      <td>0.188770</td>\n",
       "    </tr>\n",
       "    <tr>\n",
       "      <th>Residual</th>\n",
       "      <td>1.602947e+12</td>\n",
       "      <td>56.0</td>\n",
       "      <td>NaN</td>\n",
       "      <td>NaN</td>\n",
       "    </tr>\n",
       "  </tbody>\n",
       "</table>\n",
       "</div>"
      ],
      "text/plain": [
       "                              sum_sq    df         F    PR(>F)\n",
       "C(gender)               8.479322e+09   1.0  0.296231  0.588416\n",
       "C(ethnicity)            6.017691e+10   3.0  0.700773  0.555552\n",
       "C(gender):C(ethnicity)  1.414801e+11   3.0  1.647567  0.188770\n",
       "Residual                1.602947e+12  56.0       NaN       NaN"
      ]
     },
     "execution_count": 153,
     "metadata": {},
     "output_type": "execute_result"
    }
   ],
   "source": [
    "sm.stats.anova_lm(model_R, typ=2)"
   ]
  },
  {
   "cell_type": "code",
   "execution_count": 154,
   "id": "lonely-pocket",
   "metadata": {},
   "outputs": [],
   "source": [
    "Trulia = df[df.scraper == 'Trulia']"
   ]
  },
  {
   "cell_type": "code",
   "execution_count": 155,
   "id": "eight-milwaukee",
   "metadata": {},
   "outputs": [],
   "source": [
    "model_T = ols('price_mean ~ C(gender) + C(ethnicity) + C(gender):C(ethnicity)', data=Trulia).fit()"
   ]
  },
  {
   "cell_type": "code",
   "execution_count": 156,
   "id": "unavailable-failure",
   "metadata": {},
   "outputs": [
    {
     "data": {
      "text/html": [
       "<div>\n",
       "<style scoped>\n",
       "    .dataframe tbody tr th:only-of-type {\n",
       "        vertical-align: middle;\n",
       "    }\n",
       "\n",
       "    .dataframe tbody tr th {\n",
       "        vertical-align: top;\n",
       "    }\n",
       "\n",
       "    .dataframe thead th {\n",
       "        text-align: right;\n",
       "    }\n",
       "</style>\n",
       "<table border=\"1\" class=\"dataframe\">\n",
       "  <thead>\n",
       "    <tr style=\"text-align: right;\">\n",
       "      <th></th>\n",
       "      <th>sum_sq</th>\n",
       "      <th>df</th>\n",
       "      <th>F</th>\n",
       "      <th>PR(&gt;F)</th>\n",
       "    </tr>\n",
       "  </thead>\n",
       "  <tbody>\n",
       "    <tr>\n",
       "      <th>C(gender)</th>\n",
       "      <td>5.953299e+09</td>\n",
       "      <td>1.0</td>\n",
       "      <td>1.029292</td>\n",
       "      <td>0.314688</td>\n",
       "    </tr>\n",
       "    <tr>\n",
       "      <th>C(ethnicity)</th>\n",
       "      <td>2.233558e+10</td>\n",
       "      <td>3.0</td>\n",
       "      <td>1.287233</td>\n",
       "      <td>0.287715</td>\n",
       "    </tr>\n",
       "    <tr>\n",
       "      <th>C(gender):C(ethnicity)</th>\n",
       "      <td>2.143603e+10</td>\n",
       "      <td>3.0</td>\n",
       "      <td>1.235390</td>\n",
       "      <td>0.305489</td>\n",
       "    </tr>\n",
       "    <tr>\n",
       "      <th>Residual</th>\n",
       "      <td>3.238970e+11</td>\n",
       "      <td>56.0</td>\n",
       "      <td>NaN</td>\n",
       "      <td>NaN</td>\n",
       "    </tr>\n",
       "  </tbody>\n",
       "</table>\n",
       "</div>"
      ],
      "text/plain": [
       "                              sum_sq    df         F    PR(>F)\n",
       "C(gender)               5.953299e+09   1.0  1.029292  0.314688\n",
       "C(ethnicity)            2.233558e+10   3.0  1.287233  0.287715\n",
       "C(gender):C(ethnicity)  2.143603e+10   3.0  1.235390  0.305489\n",
       "Residual                3.238970e+11  56.0       NaN       NaN"
      ]
     },
     "execution_count": 156,
     "metadata": {},
     "output_type": "execute_result"
    }
   ],
   "source": [
    "sm.stats.anova_lm(model_T, typ=2)"
   ]
  },
  {
   "cell_type": "code",
   "execution_count": 160,
   "id": "applicable-pathology",
   "metadata": {},
   "outputs": [
    {
     "data": {
      "image/png": "[encoded data removed]",
      "text/plain": [
       "<Figure size 432x288 with 1 Axes>"
      ]
     },
     "metadata": {
      "needs_background": "light"
     },
     "output_type": "display_data"
    }
   ],
   "source": [
    "fig = interaction_plot(x=df['ethnicity'], trace=df['gender'], response=df['price_mean'], \n",
    "    colors=['#d17a22', '#4c061d'])\n",
    "plt.show()"
   ]
  },
  {
   "cell_type": "code",
   "execution_count": 164,
   "id": "detailed-stopping",
   "metadata": {},
   "outputs": [],
   "source": [
    "df[['rank1','rank2','rank3','rank4','rank5','rank6','rank7','rank8','rank9','rank10']] = pd.DataFrame(df.price.tolist(), index= df.index)"
   ]
  },
  {
   "cell_type": "code",
   "execution_count": 173,
   "id": "pacific-republic",
   "metadata": {},
   "outputs": [
    {
     "data": {
      "text/html": [
       "<div>\n",
       "<style scoped>\n",
       "    .dataframe tbody tr th:only-of-type {\n",
       "        vertical-align: middle;\n",
       "    }\n",
       "\n",
       "    .dataframe tbody tr th {\n",
       "        vertical-align: top;\n",
       "    }\n",
       "\n",
       "    .dataframe thead tr th {\n",
       "        text-align: left;\n",
       "    }\n",
       "\n",
       "    .dataframe thead tr:last-of-type th {\n",
       "        text-align: right;\n",
       "    }\n",
       "</style>\n",
       "<table border=\"1\" class=\"dataframe\">\n",
       "  <thead>\n",
       "    <tr>\n",
       "      <th></th>\n",
       "      <th>rank1</th>\n",
       "      <th>rank2</th>\n",
       "      <th>rank3</th>\n",
       "      <th>rank4</th>\n",
       "      <th>rank5</th>\n",
       "      <th>rank6</th>\n",
       "      <th>rank7</th>\n",
       "      <th>rank8</th>\n",
       "      <th>rank9</th>\n",
       "      <th>rank10</th>\n",
       "    </tr>\n",
       "    <tr>\n",
       "      <th></th>\n",
       "      <th>mean</th>\n",
       "      <th>mean</th>\n",
       "      <th>mean</th>\n",
       "      <th>mean</th>\n",
       "      <th>mean</th>\n",
       "      <th>mean</th>\n",
       "      <th>mean</th>\n",
       "      <th>mean</th>\n",
       "      <th>mean</th>\n",
       "      <th>mean</th>\n",
       "    </tr>\n",
       "    <tr>\n",
       "      <th>gender</th>\n",
       "      <th></th>\n",
       "      <th></th>\n",
       "      <th></th>\n",
       "      <th></th>\n",
       "      <th></th>\n",
       "      <th></th>\n",
       "      <th></th>\n",
       "      <th></th>\n",
       "      <th></th>\n",
       "      <th></th>\n",
       "    </tr>\n",
       "  </thead>\n",
       "  <tbody>\n",
       "    <tr>\n",
       "      <th>female</th>\n",
       "      <td>318977</td>\n",
       "      <td>355289</td>\n",
       "      <td>237716</td>\n",
       "      <td>258034</td>\n",
       "      <td>276249</td>\n",
       "      <td>200149</td>\n",
       "      <td>237090</td>\n",
       "      <td>238449</td>\n",
       "      <td>193032</td>\n",
       "      <td>201037</td>\n",
       "    </tr>\n",
       "    <tr>\n",
       "      <th>male</th>\n",
       "      <td>315757</td>\n",
       "      <td>410554</td>\n",
       "      <td>236965</td>\n",
       "      <td>232790</td>\n",
       "      <td>228399</td>\n",
       "      <td>288504</td>\n",
       "      <td>303998</td>\n",
       "      <td>237104</td>\n",
       "      <td>204999</td>\n",
       "      <td>255522</td>\n",
       "    </tr>\n",
       "  </tbody>\n",
       "</table>\n",
       "</div>"
      ],
      "text/plain": [
       "         rank1   rank2   rank3   rank4   rank5   rank6   rank7   rank8  \\\n",
       "          mean    mean    mean    mean    mean    mean    mean    mean   \n",
       "gender                                                                   \n",
       "female  318977  355289  237716  258034  276249  200149  237090  238449   \n",
       "male    315757  410554  236965  232790  228399  288504  303998  237104   \n",
       "\n",
       "         rank9  rank10  \n",
       "          mean    mean  \n",
       "gender                  \n",
       "female  193032  201037  \n",
       "male    204999  255522  "
      ]
     },
     "execution_count": 173,
     "metadata": {},
     "output_type": "execute_result"
    }
   ],
   "source": [
    "gender_ranks = df.groupby(['gender']).agg({'rank1': ['mean'],'rank2': ['mean'],'rank3': ['mean'],'rank4': ['mean'],\n",
    "                                           'rank5': ['mean'],'rank6': ['mean'],'rank7': ['mean'],'rank8': ['mean'],\n",
    "                                           'rank9': ['mean'],'rank10': ['mean']}).astype(int)\n",
    "gender_ranks"
   ]
  },
  {
   "cell_type": "code",
   "execution_count": 189,
   "id": "prerequisite-belle",
   "metadata": {},
   "outputs": [
    {
     "data": {
      "text/plain": [
       "Text(0, 0.5, 'Average Price')"
      ]
     },
     "execution_count": 189,
     "metadata": {},
     "output_type": "execute_result"
    },
    {
     "data": {
      "image/png": "[encoded data removed]",
      "text/plain": [
       "<Figure size 432x288 with 1 Axes>"
      ]
     },
     "metadata": {
      "needs_background": "light"
     },
     "output_type": "display_data"
    }
   ],
   "source": [
    "gender_ranks.T.plot()\n",
    "plt.xlabel('Ranking')\n",
    "plt.ylabel('Average Price')"
   ]
  },
  {
   "cell_type": "code",
   "execution_count": 174,
   "id": "civil-subject",
   "metadata": {},
   "outputs": [
    {
     "data": {
      "text/html": [
       "<div>\n",
       "<style scoped>\n",
       "    .dataframe tbody tr th:only-of-type {\n",
       "        vertical-align: middle;\n",
       "    }\n",
       "\n",
       "    .dataframe tbody tr th {\n",
       "        vertical-align: top;\n",
       "    }\n",
       "\n",
       "    .dataframe thead tr th {\n",
       "        text-align: left;\n",
       "    }\n",
       "\n",
       "    .dataframe thead tr:last-of-type th {\n",
       "        text-align: right;\n",
       "    }\n",
       "</style>\n",
       "<table border=\"1\" class=\"dataframe\">\n",
       "  <thead>\n",
       "    <tr>\n",
       "      <th></th>\n",
       "      <th>rank1</th>\n",
       "      <th>rank2</th>\n",
       "      <th>rank3</th>\n",
       "      <th>rank4</th>\n",
       "      <th>rank5</th>\n",
       "      <th>rank6</th>\n",
       "      <th>rank7</th>\n",
       "      <th>rank8</th>\n",
       "      <th>rank9</th>\n",
       "      <th>rank10</th>\n",
       "    </tr>\n",
       "    <tr>\n",
       "      <th></th>\n",
       "      <th>mean</th>\n",
       "      <th>mean</th>\n",
       "      <th>mean</th>\n",
       "      <th>mean</th>\n",
       "      <th>mean</th>\n",
       "      <th>mean</th>\n",
       "      <th>mean</th>\n",
       "      <th>mean</th>\n",
       "      <th>mean</th>\n",
       "      <th>mean</th>\n",
       "    </tr>\n",
       "    <tr>\n",
       "      <th>ethnicity</th>\n",
       "      <th></th>\n",
       "      <th></th>\n",
       "      <th></th>\n",
       "      <th></th>\n",
       "      <th></th>\n",
       "      <th></th>\n",
       "      <th></th>\n",
       "      <th></th>\n",
       "      <th></th>\n",
       "      <th></th>\n",
       "    </tr>\n",
       "  </thead>\n",
       "  <tbody>\n",
       "    <tr>\n",
       "      <th>african american</th>\n",
       "      <td>202515</td>\n",
       "      <td>339178</td>\n",
       "      <td>264096</td>\n",
       "      <td>303712</td>\n",
       "      <td>306562</td>\n",
       "      <td>264315</td>\n",
       "      <td>219434</td>\n",
       "      <td>248508</td>\n",
       "      <td>211846</td>\n",
       "      <td>208418</td>\n",
       "    </tr>\n",
       "    <tr>\n",
       "      <th>asian</th>\n",
       "      <td>441371</td>\n",
       "      <td>308315</td>\n",
       "      <td>231290</td>\n",
       "      <td>271257</td>\n",
       "      <td>159699</td>\n",
       "      <td>169465</td>\n",
       "      <td>192952</td>\n",
       "      <td>227265</td>\n",
       "      <td>199162</td>\n",
       "      <td>201952</td>\n",
       "    </tr>\n",
       "    <tr>\n",
       "      <th>caucasian</th>\n",
       "      <td>361709</td>\n",
       "      <td>328133</td>\n",
       "      <td>223555</td>\n",
       "      <td>205952</td>\n",
       "      <td>313024</td>\n",
       "      <td>348065</td>\n",
       "      <td>337521</td>\n",
       "      <td>261846</td>\n",
       "      <td>197249</td>\n",
       "      <td>218921</td>\n",
       "    </tr>\n",
       "    <tr>\n",
       "      <th>hispanic</th>\n",
       "      <td>264075</td>\n",
       "      <td>552605</td>\n",
       "      <td>230468</td>\n",
       "      <td>202304</td>\n",
       "      <td>233002</td>\n",
       "      <td>189940</td>\n",
       "      <td>328087</td>\n",
       "      <td>213571</td>\n",
       "      <td>187059</td>\n",
       "      <td>280421</td>\n",
       "    </tr>\n",
       "  </tbody>\n",
       "</table>\n",
       "</div>"
      ],
      "text/plain": [
       "                   rank1   rank2   rank3   rank4   rank5   rank6   rank7  \\\n",
       "                    mean    mean    mean    mean    mean    mean    mean   \n",
       "ethnicity                                                                  \n",
       "african american  202515  339178  264096  303712  306562  264315  219434   \n",
       "asian             441371  308315  231290  271257  159699  169465  192952   \n",
       "caucasian         361709  328133  223555  205952  313024  348065  337521   \n",
       "hispanic          264075  552605  230468  202304  233002  189940  328087   \n",
       "\n",
       "                   rank8   rank9  rank10  \n",
       "                    mean    mean    mean  \n",
       "ethnicity                                 \n",
       "african american  248508  211846  208418  \n",
       "asian             227265  199162  201952  \n",
       "caucasian         261846  197249  218921  \n",
       "hispanic          213571  187059  280421  "
      ]
     },
     "execution_count": 174,
     "metadata": {},
     "output_type": "execute_result"
    }
   ],
   "source": [
    "ethnicity_ranks = df.groupby(['ethnicity']).agg({'rank1': ['mean'],'rank2': ['mean'],'rank3': ['mean'],'rank4': ['mean'],\n",
    "                                           'rank5': ['mean'],'rank6': ['mean'],'rank7': ['mean'],'rank8': ['mean'],\n",
    "                                           'rank9': ['mean'],'rank10': ['mean']}).astype(int)\n",
    "ethnicity_ranks"
   ]
  },
  {
   "cell_type": "code",
   "execution_count": 190,
   "id": "joined-briefs",
   "metadata": {},
   "outputs": [
    {
     "data": {
      "text/plain": [
       "Text(0, 0.5, 'Average Price')"
      ]
     },
     "execution_count": 190,
     "metadata": {},
     "output_type": "execute_result"
    },
    {
     "data": {
      "image/png": "[encoded data removed]",
      "text/plain": [
       "<Figure size 432x288 with 1 Axes>"
      ]
     },
     "metadata": {
      "needs_background": "light"
     },
     "output_type": "display_data"
    }
   ],
   "source": [
    "ethnicity_ranks.T.plot()\n",
    "plt.xlabel('Ranking')\n",
    "plt.ylabel('Average Price')"
   ]
  },
  {
   "cell_type": "code",
   "execution_count": null,
   "id": "organized-ontario",
   "metadata": {},
   "outputs": [],
   "source": []
  }
 ],
 "metadata": {
  "kernelspec": {
   "display_name": "Python 3",
   "language": "python",
   "name": "python3"
  },
  "language_info": {
   "codemirror_mode": {
    "name": "ipython",
    "version": 3
   },
   "file_extension": ".py",
   "mimetype": "text/x-python",
   "name": "python",
   "nbconvert_exporter": "python",
   "pygments_lexer": "ipython3",
   "version": "3.8.5"
  }
 },
 "nbformat": 4,
 "nbformat_minor": 5
}
